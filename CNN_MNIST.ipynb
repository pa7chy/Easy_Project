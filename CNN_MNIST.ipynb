{
 "cells": [
  {
   "cell_type": "code",
   "execution_count": 1,
   "metadata": {},
   "outputs": [
    {
     "name": "stdout",
     "output_type": "stream",
     "text": [
      "Extracting MNIST_data/train-images-idx3-ubyte.gz\n",
      "Extracting MNIST_data/train-labels-idx1-ubyte.gz\n",
      "Extracting MNIST_data/t10k-images-idx3-ubyte.gz\n",
      "Extracting MNIST_data/t10k-labels-idx1-ubyte.gz\n"
     ]
    }
   ],
   "source": [
    "import tensorflow as tf\n",
    "from tensorflow.examples.tutorials.mnist import input_data\n",
    "mnist = input_data.read_data_sets(\"MNIST_data/\", one_hot=True)\n",
    "\n",
    "#Use CPU because of GPU OOM issue\n",
    "config = tf.ConfigProto(\n",
    "    allow_soft_placement=True,\n",
    "    log_device_placement=True\n",
    "#     device_count = {'GPU':0}\n",
    ")\n",
    "# config.gpu_options.per_process_gpu_memory_fraction = 0.5    \n",
    "# config.gpu_options.allow_growth = True      \n",
    "# config.gpu_options.allocator_type = 'BFC'  \n",
    "# sess = tf.InteractiveSession(config=config)\n",
    "\n",
    "x = tf.placeholder(tf.float32, [None, 784]) #x is placeholder for 28 * 28 image\n",
    "y_ = tf.placeholder(tf.float32, [None, 10])\n",
    "x_image = tf.reshape (x, [-1,28,28,1], name=\"x_image\") #change input data from a list to a 28 x 28 x 1 grayscale cube\n",
    "\n",
    "def weight_variable(shape):\n",
    "    initial = tf.truncated_normal(shape,stddev=0.1)\n",
    "    return tf.Variable(initial)\n",
    "\n",
    "def bias_variable(shape):\n",
    "    initial = tf.constant(0.1, shape=shape)\n",
    "    return tf.Variable(initial)\n",
    "\n",
    "def conv2d(x, W):\n",
    "    return tf.nn.conv2d(x, W, strides=[1, 1, 1, 1], padding='SAME')\n",
    "\n",
    "def max_pool_2x2(x):\n",
    "    return tf.nn.max_pool(x, ksize=[1, 2, 2, 1], strides=[1, 2, 2, 1], padding='SAME') #k is kernel\n",
    "# Define layers\n",
    "W_conv1 = weight_variable([5, 5, 1, 32]) #32 features for each 5x5 size of filer, 1 channel grayscale\n",
    "b_conv1 = bias_variable([32])\n",
    "\n",
    "h_conv1 = tf.nn.relu(conv2d(x_image, W_conv1) + b_conv1) # convolution\n",
    "h_pool1 = max_pool_2x2(h_conv1) # max pooling\n",
    "W_conv2 = weight_variable([5, 5, 32, 64]) #64 features\n",
    "b_conv2 = bias_variable([64])\n",
    "\n",
    "h_conv2 = tf.nn.relu(conv2d(h_pool1, W_conv2) + b_conv2)\n",
    "h_pool2 = max_pool_2x2(h_conv2)\n",
    "# Fully Connected Layer\n",
    "W_fc1 = weight_variable([7 * 7 * 64, 1024]) # 7x7 images by 64 features to 1024 neuron \n",
    "b_fc1 = bias_variable([1024])\n",
    "# connect output of pooling 2 to fc layer\n",
    "h_pool2_flat = tf.reshape(h_pool2, [-1, 7*7*64])\n",
    "h_fc1 = tf.nn.relu(tf.matmul(h_pool2_flat, W_fc1) + b_fc1)\n",
    "#dropout\n",
    "keep_prob = tf.placeholder(tf.float32)\n",
    "h_fc1_drop = tf.nn.dropout(h_fc1, keep_prob)\n",
    "#Readout\n",
    "W_fc2 = weight_variable([1024, 10])\n",
    "b_fc2 = bias_variable([10])\n",
    "\n",
    "#Define model\n",
    "y_conv = tf.matmul(h_fc1_drop, W_fc2) + b_fc2\n",
    "\n",
    "#Loss measurement\n",
    "cross_entropy = tf.reduce_mean(tf.nn.softmax_cross_entropy_with_logits(logits=y_conv,labels=y_))\n",
    "                               \n",
    "#Loss optimization\n",
    "train_step = tf.train.AdamOptimizer(1e-4).minimize(cross_entropy)\n",
    "#correct\n",
    "correct_prediction = tf.equal(tf.argmax(y_conv,1), tf.argmax(y_,1))\n",
    "#accurate\n",
    "accuracy = tf.reduce_mean(tf.cast(correct_prediction, tf.float32))"
   ]
  },
  {
   "cell_type": "code",
   "execution_count": null,
   "metadata": {},
   "outputs": [
    {
     "name": "stdout",
     "output_type": "stream",
     "text": [
      "(50, 784)\n",
      "(50, 10)\n"
     ]
    }
   ],
   "source": [
    "import time\n",
    "import matplotlib.pyplot as plt\n",
    "import numpy as np\n",
    "\n",
    "#Train\n",
    "with tf.Session(config=config) as sess:\n",
    "    sess.run(tf.global_variables_initializer())\n",
    "\n",
    "    num_steps = 2000\n",
    "    display_every = 100\n",
    "    cross_entropys = []\n",
    "\n",
    "    #start timer\n",
    "    start_time = time.time()\n",
    "    end_time = time.time()\n",
    "\n",
    "    for i in range(num_steps):\n",
    "        batch = mnist.train.next_batch(50)\n",
    "#         train_step.run(feed_dict={x: batch[0], y_: batch[1], keep_prob:0.5})\n",
    "        _ , temp_cost = sess.run([train_step,cross_entropy],feed_dict={x: batch[0], y_: batch[1], keep_prob:0.5})\n",
    "\n",
    "        cross_entropys.append(temp_cost)\n",
    "        if i%display_every == 0:\n",
    "            train_accuracy = accuracy.eval(feed_dict={x:batch[0], y_:batch[1], keep_prob: 1.0})\n",
    "            end_time = time.time()\n",
    "            print(temp_cost)\n",
    "            print(\"step {0}, elapsed time {1:.2f} seconds, training accuracy {2:.3f}%\".format(i, end_time - start_time, train_accuracy*100))\n",
    "    #Display summary\n",
    "    end_time = time.time()\n",
    "    print(\"Total training time for {0} batches: {1:.2f} seconds\".format(i+1, end_time-start_time))\n",
    "\n",
    "    # plot the cost\n",
    "    plt.plot(np.squeeze(cross_entropys))\n",
    "    plt.ylabel('cross_entropys')\n",
    "    plt.xlabel('steps')\n",
    "    plt.title(\"Learning cost\")\n",
    "    plt.show()\n",
    "    \n",
    "    # Accuracy on test data\n",
    "    # print(\"Test accuracy {0:.3f}%\".format(accuracy.eval(feed_dict={x: mnist.test.images, y_: mnist.test.labels, keep_prob: 1.0})*100.0))\n",
    "    # mnist.test.image.shape is (10000,784).In a 10k batch, it takes 2GB for this layer and lead to OOM\n",
    "    batch_size = 50\n",
    "    batch_num = int(mnist.test.num_examples / batch_size)\n",
    "    test_accuracy = 0\n",
    "    for i in range(batch_num):\n",
    "        batch = mnist.test.next_batch(batch_size)\n",
    "        test_accuracy += accuracy.eval(feed_dict={x: batch[0],\n",
    "                                                  y_: batch[1],\n",
    "                                                  keep_prob: 1.0})\n",
    "\n",
    "    test_accuracy /= batch_num\n",
    "    print(\"Test accuracy {0:.3f}%\".format(test_accuracy*100.0))\n",
    "#     sess.close()"
   ]
  },
  {
   "cell_type": "code",
   "execution_count": null,
   "metadata": {
    "collapsed": true
   },
   "outputs": [],
   "source": [
    "print (batch[0].shape)\n",
    "print (batch[1].shape)"
   ]
  },
  {
   "cell_type": "code",
   "execution_count": null,
   "metadata": {
    "collapsed": true
   },
   "outputs": [],
   "source": []
  },
  {
   "cell_type": "code",
   "execution_count": null,
   "metadata": {
    "collapsed": true
   },
   "outputs": [],
   "source": []
  },
  {
   "cell_type": "code",
   "execution_count": null,
   "metadata": {
    "collapsed": true
   },
   "outputs": [],
   "source": []
  },
  {
   "cell_type": "code",
   "execution_count": null,
   "metadata": {
    "collapsed": true
   },
   "outputs": [],
   "source": []
  },
  {
   "cell_type": "code",
   "execution_count": null,
   "metadata": {
    "collapsed": true
   },
   "outputs": [],
   "source": []
  },
  {
   "cell_type": "code",
   "execution_count": null,
   "metadata": {
    "collapsed": true
   },
   "outputs": [],
   "source": []
  }
 ],
 "metadata": {
  "kernelspec": {
   "display_name": "Python 3",
   "language": "python",
   "name": "python3"
  },
  "language_info": {
   "codemirror_mode": {
    "name": "ipython",
    "version": 3
   },
   "file_extension": ".py",
   "mimetype": "text/x-python",
   "name": "python",
   "nbconvert_exporter": "python",
   "pygments_lexer": "ipython3",
   "version": "3.5.4"
  }
 },
 "nbformat": 4,
 "nbformat_minor": 2
}
